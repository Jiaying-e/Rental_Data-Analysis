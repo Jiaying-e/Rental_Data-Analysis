{
  "nbformat": 4,
  "nbformat_minor": 0,
  "metadata": {
    "colab": {
      "name": "Spider.ipynb",
      "provenance": []
    },
    "kernelspec": {
      "name": "python3",
      "display_name": "Python 3"
    },
    "language_info": {
      "name": "python"
    }
  },
  "cells": [
    {
      "cell_type": "code",
      "metadata": {
        "colab": {
          "base_uri": "https://localhost:8080/"
        },
        "id": "wuWxUWXqgG2b",
        "outputId": "2190d844-838e-4f8b-c65f-dd7c74f0fdb6"
      },
      "source": [
        "from google.colab import drive\n",
        "drive.mount('/content/gdrive/')\n",
        "%cd /content/gdrive/'My Drive'/'Colab Notebooks'/\n",
        "!pwd"
      ],
      "execution_count": null,
      "outputs": [
        {
          "output_type": "stream",
          "text": [
            "Mounted at /content/gdrive/\n",
            "/content/gdrive/My Drive/Colab Notebooks\n",
            "/content/gdrive/My Drive/Colab Notebooks\n"
          ],
          "name": "stdout"
        }
      ]
    },
    {
      "cell_type": "code",
      "metadata": {
        "id": "zxpY1Rg_g80Y"
      },
      "source": [
        "import re\n",
        "import urllib.request\n",
        "import csv\n",
        "import time"
      ],
      "execution_count": null,
      "outputs": []
    },
    {
      "cell_type": "code",
      "metadata": {
        "id": "iqmPtnWshD_B"
      },
      "source": [
        "def write_to_csv_title():\n",
        "    # python2可以用file替代open\n",
        "    with open(\"test.csv\", \"w\") as csvfile:\n",
        "        writer = csv.writer(csvfile)\n",
        "\n",
        "        # 先写入columns_name\n",
        "        writer.writerow([\"页面地址\", \"标题\", \"地址\", \"类型\", \"卧室数\", \"卫浴数\", \"可住人数\", \"是否含家具\", \"价格\", \"房源预订\", \"起租时间\", \"出租周期\", \"配套和设施\",\"周边详情\",\"地理位置信息\"])"
      ],
      "execution_count": null,
      "outputs": []
    },
    {
      "cell_type": "code",
      "metadata": {
        "id": "7Vmt9ACjhSpB"
      },
      "source": [
        "def write_to_csv(list1):\n",
        "    # python2可以用file替代open\n",
        "    with open(\"test.csv\", \"a+\") as csvfile:\n",
        "        writer = csv.writer(csvfile)\n",
        "        # 写入多行用writerows\n",
        "        writer.writerow(list1)"
      ],
      "execution_count": null,
      "outputs": []
    },
    {
      "cell_type": "code",
      "metadata": {
        "id": "1seHP_3OhawF"
      },
      "source": [
        "def parse_content(url,html):\n",
        "    list1 = []\n",
        "    list1.append(url)\n",
        "\n",
        "    # 标题  地址  类型\n",
        "    reg = re.compile(\n",
        "        r'<h1 class=\"room-title\">(.*?)</h1>\\n'\n",
        "        r'<div class=\"room-local\">(.*?)<a href=\"#house-mapbox\">查看地图</a></div>\\n'\n",
        "        r'<div class=\"item-tags\">\\n'\n",
        "        r'<a style=\"background-color.*?\">(.*?)</a>\\n'\n",
        "        # r'<a style=\"background-color:#A593E0;\">(.*?)</a>',\n",
        "        , re.S)  # 匹配换行符\n",
        "\n",
        "    items = re.findall(reg, html)\n",
        "    print(items)\n",
        "\n",
        "    for i in items[0]:\n",
        "      # print(i)\n",
        "      list1.append(i)\n",
        "\n",
        "    reg = re.compile(\n",
        "    r'<div class=\"device-intro\"> 卧室<p>(.*?)个</p></div>\\n</div>\\n</div>\\n<div class=\"col-xs-3\">\\n<div class=\"device-item\">\\n'\n",
        "    r'<i class=\"device02\"></i>\\n<div class=\"device-intro\"> 卫浴<p>(.*?)个</p></div>\\n</div>\\n</div>\\n<div class=\"col-xs-3\">\\n'\n",
        "    r'<div class=\"device-item\">\\n<i class=\"device03\"></i>\\n<div class=\"device-intro\"> 可住<p>(.*?)人</p></div>\\n</div>\\n</div>\\n'\n",
        "    r'<div class=\"col-xs-3\">\\n<div class=\"device-item\">\\n<i class=\"device04\"></i>\\n<div class=\"device-intro\"> 家具<p>(.*?)</p></div>\\n'\n",
        "    r'</div>\\n</div>\\n</div>\\n</div>\\n</div>\\n<div class=\"room-booking\" id=\"bookingBar\">\\n<div class=\"booking-inner\">\\n'\n",
        "    r'<div class=\"hd text-red\">每周<strong>\\$(.*?)</strong></div>', re.S)  # 匹配换行符\n",
        "\n",
        "    items1 = re.findall(reg, html)\n",
        "\n",
        "    for i in items1[0]:\n",
        "        # print(i)\n",
        "        list1.append(i)\n",
        "\n",
        "    reg = re.compile(\n",
        "        r'<a href=\"javascript:;\">\\n<h4>(.*?)</h4>\\n</a>\\n<div class=\"row\">\\n<div class=\"col-xs-12 col-sm-6\">\\n'\n",
        "        r'<dl><dt>起租时间：</dt><dd>(.*?)</dd></dl>\\n<dl><dt>出租周期：</dt><dd>(.*?)</dd></dl>\\n'\n",
        "        , re.S)\n",
        "\n",
        "    items2 = re.findall(reg, html)\n",
        "\n",
        "    for i in items2[0]:\n",
        "        # print(i)`\n",
        "        list1.append(i)\n"
      ],
      "execution_count": null,
      "outputs": []
    },
    {
      "cell_type": "code",
      "metadata": {
        "id": "DGaD8zLUhrWi"
      },
      "source": [
        ""
      ],
      "execution_count": null,
      "outputs": []
    }
  ]
}